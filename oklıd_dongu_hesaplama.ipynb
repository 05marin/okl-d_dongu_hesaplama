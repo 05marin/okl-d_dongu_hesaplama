{
 "cells": [
  {
   "cell_type": "code",
   "id": "initial_id",
   "metadata": {
    "collapsed": true,
    "ExecuteTime": {
     "end_time": "2024-10-12T18:06:55.499604Z",
     "start_time": "2024-10-12T18:06:55.493532Z"
    }
   },
   "source": [
    "import math\n",
    "x1=2\n",
    "y1=3\n",
    "x2=4\n",
    "y2=5\n",
    "points = [(x1,y1), (x2,y2)]\n",
    "\n",
    "def euclideanDistance(point1,point2):\n",
    "    x1,y1 = point1\n",
    "    x2,y2 = point2\n",
    "    return math.sqrt((x2-x1)**2 + (y2-y1)**2)\n",
    "\n",
    "distance = euclideanDistance(points[0],points[1])\n",
    "print(distance)\n",
    "  "
   ],
   "outputs": [
    {
     "name": "stdout",
     "output_type": "stream",
     "text": [
      "2.8284271247461903\n"
     ]
    }
   ],
   "execution_count": 14
  },
  {
   "metadata": {},
   "cell_type": "markdown",
   "source": "",
   "id": "28a9e79375907fcd"
  },
  {
   "metadata": {},
   "cell_type": "code",
   "outputs": [],
   "execution_count": null,
   "source": "",
   "id": "fbbad01926ed193c"
  },
  {
   "metadata": {},
   "cell_type": "code",
   "outputs": [],
   "execution_count": null,
   "source": "",
   "id": "b0d1845fe3ff9eb5"
  },
  {
   "metadata": {},
   "cell_type": "markdown",
   "source": "",
   "id": "705cf4be5eb4acbc"
  }
 ],
 "metadata": {
  "kernelspec": {
   "display_name": "Python 3",
   "language": "python",
   "name": "python3"
  },
  "language_info": {
   "codemirror_mode": {
    "name": "ipython",
    "version": 2
   },
   "file_extension": ".py",
   "mimetype": "text/x-python",
   "name": "python",
   "nbconvert_exporter": "python",
   "pygments_lexer": "ipython2",
   "version": "2.7.6"
  }
 },
 "nbformat": 4,
 "nbformat_minor": 5
}
